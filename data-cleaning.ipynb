{
 "cells": [
  {
   "cell_type": "code",
   "execution_count": 1,
   "id": "b261784f-4b9b-425c-82e0-639a444ed5aa",
   "metadata": {},
   "outputs": [],
   "source": [
    "import pandas as pd \n",
    "import os\n",
    "import yfinance as yf\n",
    "import spacy\n",
    "from heapq import nlargest\n",
    "import bs4 as bs\n",
    "import requests\n",
    "from spacy import displacy\n",
    "from collections import Counter\n",
    "import matplotlib\n",
    "from string import punctuation\n",
    "import json"
   ]
  },
  {
   "cell_type": "code",
   "execution_count": 2,
   "id": "5cf5bd1c-75f9-4eba-856f-21d1b9a7fea8",
   "metadata": {},
   "outputs": [],
   "source": [
    "data = pd.read_csv('./us_equities_news_dataset.csv')"
   ]
  },
  {
   "cell_type": "code",
   "execution_count": 3,
   "id": "cfc077b2-69d7-443f-8df4-4e34d22c0cdd",
   "metadata": {},
   "outputs": [],
   "source": [
    "with open('./sp500infos.json') as json_file:\n",
    "    sp500 = json.load(json_file)"
   ]
  },
  {
   "cell_type": "code",
   "execution_count": 4,
   "id": "06ad1323-8681-4ca7-93b2-9088d8a5d55b",
   "metadata": {},
   "outputs": [
    {
     "data": {
      "text/plain": [
       "Index(['id', 'ticker', 'title', 'category', 'content', 'release_date',\n",
       "       'provider', 'url', 'article_id'],\n",
       "      dtype='object')"
      ]
     },
     "execution_count": 4,
     "metadata": {},
     "output_type": "execute_result"
    }
   ],
   "source": [
    "data.columns"
   ]
  },
  {
   "cell_type": "code",
   "execution_count": 5,
   "id": "820ee9bc-6680-4256-8342-6b05e36376b5",
   "metadata": {},
   "outputs": [
    {
     "data": {
      "text/plain": [
       "id                                                         221515\n",
       "ticker                                                        NIO\n",
       "title           Why Shares of Chinese Electric Car Maker NIO A...\n",
       "category                                                     news\n",
       "content         What s happening\\nShares of Chinese electric c...\n",
       "release_date                                           2020-01-15\n",
       "provider                                          The Motley Fool\n",
       "url                                        https://invst.ly/pigqi\n",
       "article_id                                                2060327\n",
       "Name: 0, dtype: object"
      ]
     },
     "execution_count": 5,
     "metadata": {},
     "output_type": "execute_result"
    }
   ],
   "source": [
    "data.iloc[0]"
   ]
  },
  {
   "cell_type": "code",
   "execution_count": 6,
   "id": "b9ce0bc3-c8d4-4ec2-84c0-2d9cfd143ceb",
   "metadata": {},
   "outputs": [
    {
     "data": {
      "text/plain": [
       "array(['news', 'opinion'], dtype=object)"
      ]
     },
     "execution_count": 6,
     "metadata": {},
     "output_type": "execute_result"
    }
   ],
   "source": [
    "data['category'].unique()"
   ]
  },
  {
   "cell_type": "code",
   "execution_count": 7,
   "id": "1f154663-5088-40b5-bc2a-34831f533f49",
   "metadata": {},
   "outputs": [
    {
     "name": "stdout",
     "output_type": "stream",
     "text": [
      "505\n"
     ]
    }
   ],
   "source": [
    "resp = requests.get('http://en.wikipedia.org/wiki/List_of_S%26P_500_companies')\n",
    "soup = bs.BeautifulSoup(resp.text, 'lxml')\n",
    "table = soup.find('table', {'class': 'wikitable sortable'})\n",
    "tickers = []\n",
    "for row in table.findAll('tr')[1:]:\n",
    "    ticker = row.findAll('td')[0].text\n",
    "    tickers.append(ticker)\n",
    "tickers = [s.replace('\\n', '') for s in tickers]\n",
    "print(len(tickers))"
   ]
  },
  {
   "cell_type": "code",
   "execution_count": 8,
   "id": "52fc2d65-3f99-4977-b03a-62f9bdf367ce",
   "metadata": {},
   "outputs": [
    {
     "name": "stdout",
     "output_type": "stream",
     "text": [
      "0\n",
      "10000\n",
      "20000\n",
      "30000\n",
      "40000\n",
      "50000\n",
      "60000\n",
      "70000\n",
      "80000\n",
      "90000\n",
      "100000\n",
      "110000\n",
      "120000\n",
      "130000\n",
      "140000\n",
      "150000\n",
      "160000\n",
      "170000\n",
      "180000\n",
      "190000\n",
      "200000\n",
      "210000\n",
      "220000\n"
     ]
    }
   ],
   "source": [
    "fast_lookup = dict.fromkeys(tickers, 1)\n",
    "data.set_index('ticker')\n",
    "to_remove = []\n",
    "for i in range(len(data)):\n",
    "    if (i%10000==0):\n",
    "        print(i)\n",
    "    if data.iloc[i]['ticker'] not in fast_lookup:\n",
    "        to_remove.append(i)"
   ]
  },
  {
   "cell_type": "code",
   "execution_count": 9,
   "id": "5e9e37ce-891a-4672-a406-a3a2c95c92c2",
   "metadata": {},
   "outputs": [],
   "source": [
    "data = data.drop(to_remove)"
   ]
  },
  {
   "cell_type": "code",
   "execution_count": 10,
   "id": "09b16d18-9d55-4082-bc2e-106e854d01f6",
   "metadata": {},
   "outputs": [
    {
     "data": {
      "text/plain": [
       "349"
      ]
     },
     "execution_count": 10,
     "metadata": {},
     "output_type": "execute_result"
    }
   ],
   "source": [
    "len(data['ticker'].unique())\n"
   ]
  },
  {
   "cell_type": "code",
   "execution_count": 11,
   "id": "8ef3893e-0724-46d1-9d0a-c173cdeefb47",
   "metadata": {},
   "outputs": [
    {
     "data": {
      "text/plain": [
       "179279"
      ]
     },
     "execution_count": 11,
     "metadata": {},
     "output_type": "execute_result"
    }
   ],
   "source": [
    "len(data)"
   ]
  },
  {
   "cell_type": "code",
   "execution_count": 12,
   "id": "f64b5b68-2502-476b-a2be-783e12df9b56",
   "metadata": {},
   "outputs": [
    {
     "data": {
      "text/html": [
       "<div>\n",
       "<style scoped>\n",
       "    .dataframe tbody tr th:only-of-type {\n",
       "        vertical-align: middle;\n",
       "    }\n",
       "\n",
       "    .dataframe tbody tr th {\n",
       "        vertical-align: top;\n",
       "    }\n",
       "\n",
       "    .dataframe thead th {\n",
       "        text-align: right;\n",
       "    }\n",
       "</style>\n",
       "<table border=\"1\" class=\"dataframe\">\n",
       "  <thead>\n",
       "    <tr style=\"text-align: right;\">\n",
       "      <th></th>\n",
       "      <th>id</th>\n",
       "      <th>ticker</th>\n",
       "      <th>title</th>\n",
       "      <th>category</th>\n",
       "      <th>content</th>\n",
       "      <th>release_date</th>\n",
       "      <th>provider</th>\n",
       "      <th>url</th>\n",
       "      <th>article_id</th>\n",
       "    </tr>\n",
       "  </thead>\n",
       "  <tbody>\n",
       "    <tr>\n",
       "      <th>1302</th>\n",
       "      <td>222817</td>\n",
       "      <td>INTC</td>\n",
       "      <td>Intel  INTC  To Post Q4 Earnings  DCG   CCG In...</td>\n",
       "      <td>opinion</td>\n",
       "      <td>Intel   NASDAQ INTC   is scheduled to report f...</td>\n",
       "      <td>2020-01-20</td>\n",
       "      <td>Zacks Investment Research</td>\n",
       "      <td>https://www.investing.com/analysis/intel-intc-...</td>\n",
       "      <td>200500288</td>\n",
       "    </tr>\n",
       "    <tr>\n",
       "      <th>1303</th>\n",
       "      <td>222818</td>\n",
       "      <td>INTC</td>\n",
       "      <td>Stocks Jump About 2  This Week On Trade Deals ...</td>\n",
       "      <td>opinion</td>\n",
       "      <td>The major indices just finished another positi...</td>\n",
       "      <td>2020-01-20</td>\n",
       "      <td>Zacks Investment Research</td>\n",
       "      <td>https://www.investing.com/analysis/stocks-jump...</td>\n",
       "      <td>200500165</td>\n",
       "    </tr>\n",
       "    <tr>\n",
       "      <th>1304</th>\n",
       "      <td>222819</td>\n",
       "      <td>INTC</td>\n",
       "      <td>Apple Partner Pegatron Plans New Facilities In...</td>\n",
       "      <td>opinion</td>\n",
       "      <td>Apple s   NASDAQ AAPL   assembly partner  Pega...</td>\n",
       "      <td>2020-01-20</td>\n",
       "      <td>Zacks Investment Research</td>\n",
       "      <td>https://www.investing.com/analysis/apple-partn...</td>\n",
       "      <td>200500270</td>\n",
       "    </tr>\n",
       "    <tr>\n",
       "      <th>1305</th>\n",
       "      <td>222820</td>\n",
       "      <td>MSFT</td>\n",
       "      <td>Microsoft exposed 250M customer support records</td>\n",
       "      <td>news</td>\n",
       "      <td>Microsoft  MSFT  0 1   discloses a database er...</td>\n",
       "      <td>2020-01-23</td>\n",
       "      <td>Seeking Alpha</td>\n",
       "      <td>https://invst.ly/pli4a</td>\n",
       "      <td>2065317</td>\n",
       "    </tr>\n",
       "    <tr>\n",
       "      <th>1306</th>\n",
       "      <td>222821</td>\n",
       "      <td>MU</td>\n",
       "      <td>Wall Street dips as investors focus on Middle ...</td>\n",
       "      <td>news</td>\n",
       "      <td>By Caroline Valetkevitch NEW YORK  Reuters    ...</td>\n",
       "      <td>2020-01-07</td>\n",
       "      <td>Reuters</td>\n",
       "      <td>https://www.investing.com/news/stock-market-ne...</td>\n",
       "      <td>2053896</td>\n",
       "    </tr>\n",
       "    <tr>\n",
       "      <th>...</th>\n",
       "      <td>...</td>\n",
       "      <td>...</td>\n",
       "      <td>...</td>\n",
       "      <td>...</td>\n",
       "      <td>...</td>\n",
       "      <td>...</td>\n",
       "      <td>...</td>\n",
       "      <td>...</td>\n",
       "      <td>...</td>\n",
       "    </tr>\n",
       "    <tr>\n",
       "      <th>221508</th>\n",
       "      <td>443024</td>\n",
       "      <td>T</td>\n",
       "      <td>Crude And Steel Still In Sync</td>\n",
       "      <td>opinion</td>\n",
       "      <td>We have been reporting on the trade off betwee...</td>\n",
       "      <td>2012-10-04</td>\n",
       "      <td>Ivan Kitov</td>\n",
       "      <td>https://www.investing.com/analysis/crude-and-s...</td>\n",
       "      <td>138733</td>\n",
       "    </tr>\n",
       "    <tr>\n",
       "      <th>221509</th>\n",
       "      <td>443025</td>\n",
       "      <td>T</td>\n",
       "      <td>Forget AT T  This Is The Telecom Stock You Sho...</td>\n",
       "      <td>opinion</td>\n",
       "      <td>It s the largest cell phone provider in the wo...</td>\n",
       "      <td>2012-05-30</td>\n",
       "      <td>StreetAuthority</td>\n",
       "      <td>https://www.investing.com/analysis/forget-at-t...</td>\n",
       "      <td>124829</td>\n",
       "    </tr>\n",
       "    <tr>\n",
       "      <th>221510</th>\n",
       "      <td>443026</td>\n",
       "      <td>T</td>\n",
       "      <td>Wall Street Exposed   Part 3   How Dividends C...</td>\n",
       "      <td>opinion</td>\n",
       "      <td>Before we dicuss how the mechanism of dividend...</td>\n",
       "      <td>2012-07-16</td>\n",
       "      <td>Portfolio Cafe</td>\n",
       "      <td>https://www.investing.com/analysis/wall-street...</td>\n",
       "      <td>129651</td>\n",
       "    </tr>\n",
       "    <tr>\n",
       "      <th>221511</th>\n",
       "      <td>443027</td>\n",
       "      <td>T</td>\n",
       "      <td>Weighing The Week Ahead  It s All About Jobs</td>\n",
       "      <td>opinion</td>\n",
       "      <td>From start to finish  the coming week will hav...</td>\n",
       "      <td>2012-09-02</td>\n",
       "      <td>Jeff Miller</td>\n",
       "      <td>https://www.investing.com/analysis/weighing-th...</td>\n",
       "      <td>134926</td>\n",
       "    </tr>\n",
       "    <tr>\n",
       "      <th>221512</th>\n",
       "      <td>443028</td>\n",
       "      <td>T</td>\n",
       "      <td>Leap Wireless  LEAP    JPM Note and AT T   T M...</td>\n",
       "      <td>opinion</td>\n",
       "      <td>Leap Wireless International  Inc   Leap  is a ...</td>\n",
       "      <td>2011-12-31</td>\n",
       "      <td>Ophir Gottlieb</td>\n",
       "      <td>https://www.investing.com/analysis/leap-wirele...</td>\n",
       "      <td>110079</td>\n",
       "    </tr>\n",
       "  </tbody>\n",
       "</table>\n",
       "<p>179279 rows × 9 columns</p>\n",
       "</div>"
      ],
      "text/plain": [
       "            id ticker                                              title  \\\n",
       "1302    222817   INTC  Intel  INTC  To Post Q4 Earnings  DCG   CCG In...   \n",
       "1303    222818   INTC  Stocks Jump About 2  This Week On Trade Deals ...   \n",
       "1304    222819   INTC  Apple Partner Pegatron Plans New Facilities In...   \n",
       "1305    222820   MSFT    Microsoft exposed 250M customer support records   \n",
       "1306    222821     MU  Wall Street dips as investors focus on Middle ...   \n",
       "...        ...    ...                                                ...   \n",
       "221508  443024      T                     Crude And Steel Still In Sync    \n",
       "221509  443025      T  Forget AT T  This Is The Telecom Stock You Sho...   \n",
       "221510  443026      T  Wall Street Exposed   Part 3   How Dividends C...   \n",
       "221511  443027      T       Weighing The Week Ahead  It s All About Jobs   \n",
       "221512  443028      T  Leap Wireless  LEAP    JPM Note and AT T   T M...   \n",
       "\n",
       "       category                                            content  \\\n",
       "1302    opinion  Intel   NASDAQ INTC   is scheduled to report f...   \n",
       "1303    opinion  The major indices just finished another positi...   \n",
       "1304    opinion  Apple s   NASDAQ AAPL   assembly partner  Pega...   \n",
       "1305       news  Microsoft  MSFT  0 1   discloses a database er...   \n",
       "1306       news  By Caroline Valetkevitch NEW YORK  Reuters    ...   \n",
       "...         ...                                                ...   \n",
       "221508  opinion  We have been reporting on the trade off betwee...   \n",
       "221509  opinion  It s the largest cell phone provider in the wo...   \n",
       "221510  opinion  Before we dicuss how the mechanism of dividend...   \n",
       "221511  opinion  From start to finish  the coming week will hav...   \n",
       "221512  opinion  Leap Wireless International  Inc   Leap  is a ...   \n",
       "\n",
       "       release_date                   provider  \\\n",
       "1302     2020-01-20  Zacks Investment Research   \n",
       "1303     2020-01-20  Zacks Investment Research   \n",
       "1304     2020-01-20  Zacks Investment Research   \n",
       "1305     2020-01-23              Seeking Alpha   \n",
       "1306     2020-01-07                    Reuters   \n",
       "...             ...                        ...   \n",
       "221508   2012-10-04                 Ivan Kitov   \n",
       "221509   2012-05-30            StreetAuthority   \n",
       "221510   2012-07-16             Portfolio Cafe   \n",
       "221511   2012-09-02                Jeff Miller   \n",
       "221512   2011-12-31             Ophir Gottlieb   \n",
       "\n",
       "                                                      url  article_id  \n",
       "1302    https://www.investing.com/analysis/intel-intc-...   200500288  \n",
       "1303    https://www.investing.com/analysis/stocks-jump...   200500165  \n",
       "1304    https://www.investing.com/analysis/apple-partn...   200500270  \n",
       "1305                               https://invst.ly/pli4a     2065317  \n",
       "1306    https://www.investing.com/news/stock-market-ne...     2053896  \n",
       "...                                                   ...         ...  \n",
       "221508  https://www.investing.com/analysis/crude-and-s...      138733  \n",
       "221509  https://www.investing.com/analysis/forget-at-t...      124829  \n",
       "221510  https://www.investing.com/analysis/wall-street...      129651  \n",
       "221511  https://www.investing.com/analysis/weighing-th...      134926  \n",
       "221512  https://www.investing.com/analysis/leap-wirele...      110079  \n",
       "\n",
       "[179279 rows x 9 columns]"
      ]
     },
     "execution_count": 12,
     "metadata": {},
     "output_type": "execute_result"
    }
   ],
   "source": [
    "data"
   ]
  },
  {
   "cell_type": "code",
   "execution_count": 13,
   "id": "9784062c-ce2c-4eb6-8fcb-d64606d942b8",
   "metadata": {},
   "outputs": [],
   "source": [
    "data.to_csv('us_equities_news_dataset_clean.csv')"
   ]
  },
  {
   "cell_type": "code",
   "execution_count": null,
   "id": "5c044711-5998-4930-a65b-a165421ba1cd",
   "metadata": {},
   "outputs": [],
   "source": []
  }
 ],
 "metadata": {
  "kernelspec": {
   "display_name": "Python 3 (ipykernel)",
   "language": "python",
   "name": "python3"
  },
  "language_info": {
   "codemirror_mode": {
    "name": "ipython",
    "version": 3
   },
   "file_extension": ".py",
   "mimetype": "text/x-python",
   "name": "python",
   "nbconvert_exporter": "python",
   "pygments_lexer": "ipython3",
   "version": "3.9.7"
  }
 },
 "nbformat": 4,
 "nbformat_minor": 5
}
